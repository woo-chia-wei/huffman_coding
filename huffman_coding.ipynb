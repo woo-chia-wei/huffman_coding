{
 "cells": [
  {
   "cell_type": "code",
   "execution_count": 1,
   "id": "8a7c6d57",
   "metadata": {},
   "outputs": [],
   "source": [
    "def build_huffman_tree(s):\n",
    "    freqs = {} \n",
    "    result = {} # store child -> (parent, freq)\n",
    "\n",
    "    for c in s:\n",
    "        if c in freqs:\n",
    "            freqs[c] += 1\n",
    "        else:\n",
    "            freqs[c] = 1\n",
    "\n",
    "    while len(freqs) > 1:\n",
    "        x1, x2 = sorted(freqs.items(), key=lambda x: x[1])[:2]\n",
    "        freqs.pop(x1[0])\n",
    "        freqs.pop(x2[0])\n",
    "        freqs[x1[0] + x2[0]] = x1[1] + x2[1]\n",
    "\n",
    "        result[x1[0]] = (x1[0]+x2[0], '0')\n",
    "        result[x2[0]] = (x1[0]+x2[0], '1')\n",
    "\n",
    "    return result\n",
    "\n",
    "def build_encode_table(huffman_tree):\n",
    "    \n",
    "    def find_code(x):\n",
    "        code = ''\n",
    "\n",
    "        while x in huffman_tree:\n",
    "            x, single_code = huffman_tree[x]\n",
    "            code = single_code + code \n",
    "\n",
    "        return code\n",
    "\n",
    "    return {c: find_code(c) for c in set(s)}\n"
   ]
  },
  {
   "cell_type": "code",
   "execution_count": 2,
   "id": "6916bab8",
   "metadata": {},
   "outputs": [
    {
     "data": {
      "text/plain": [
       "{'L': ('LI', '0'),\n",
       " 'I': ('LI', '1'),\n",
       " 'l': ('lx', '0'),\n",
       " 'x': ('lx', '1'),\n",
       " 'f': ('fh', '0'),\n",
       " 'h': ('fh', '1'),\n",
       " 'a': ('ao', '0'),\n",
       " 'o': ('ao', '1'),\n",
       " 'g': ('gLI', '0'),\n",
       " 'LI': ('gLI', '1'),\n",
       " 'lx': ('lxfh', '0'),\n",
       " 'fh': ('lxfh', '1'),\n",
       " 'r': ('ru', '0'),\n",
       " 'u': ('ru', '1'),\n",
       " 'd': ('dao', '0'),\n",
       " 'ao': ('dao', '1'),\n",
       " 'p': ('py', '0'),\n",
       " 'y': ('py', '1'),\n",
       " 'gLI': ('gLIlxfh', '0'),\n",
       " 'lxfh': ('gLIlxfh', '1'),\n",
       " 'e': ('em', '0'),\n",
       " 'm': ('em', '1'),\n",
       " 's': ('sn', '0'),\n",
       " 'n': ('sn', '1'),\n",
       " 'i': ('iru', '0'),\n",
       " 'ru': ('iru', '1'),\n",
       " 'dao': ('daot', '0'),\n",
       " 't': ('daot', '1'),\n",
       " 'py': ('pygLIlxfh', '0'),\n",
       " 'gLIlxfh': ('pygLIlxfh', '1'),\n",
       " 'em': ('emsn', '0'),\n",
       " 'sn': ('emsn', '1'),\n",
       " ' ': (' iru', '0'),\n",
       " 'iru': (' iru', '1'),\n",
       " 'daot': ('daotpygLIlxfh', '0'),\n",
       " 'pygLIlxfh': ('daotpygLIlxfh', '1'),\n",
       " 'emsn': ('emsn iru', '0'),\n",
       " ' iru': ('emsn iru', '1'),\n",
       " 'daotpygLIlxfh': ('daotpygLIlxfhemsn iru', '0'),\n",
       " 'emsn iru': ('daotpygLIlxfhemsn iru', '1')}"
      ]
     },
     "metadata": {},
     "output_type": "display_data"
    },
    {
     "data": {
      "text/plain": [
       "{'i': '1110',\n",
       " 'h': '011111',\n",
       " 'f': '011110',\n",
       " 'l': '011100',\n",
       " 'g': '01100',\n",
       " 'm': '1001',\n",
       " ' ': '110',\n",
       " 'r': '11110',\n",
       " 'L': '011010',\n",
       " 'e': '1000',\n",
       " 'u': '11111',\n",
       " 'a': '00010',\n",
       " 'd': '0000',\n",
       " 'n': '1011',\n",
       " 'y': '0101',\n",
       " 'p': '0100',\n",
       " 's': '1010',\n",
       " 'I': '011011',\n",
       " 'x': '011101',\n",
       " 'o': '00011',\n",
       " 't': '001'}"
      ]
     },
     "metadata": {},
     "output_type": "display_data"
    }
   ],
   "source": [
    "s = 'Lorem Ipsum is simply dummy text of the printing and typesetting industry'\n",
    "\n",
    "huffman_tree = build_huffman_tree(s)\n",
    "encode_table = build_encode_table(huffman_tree)\n",
    "\n",
    "display(huffman_tree)\n",
    "display(encode_table)"
   ]
  },
  {
   "cell_type": "markdown",
   "id": "91a4ec36",
   "metadata": {},
   "source": [
    "# Encoding"
   ]
  },
  {
   "cell_type": "code",
   "execution_count": 3,
   "id": "893fe33f",
   "metadata": {},
   "outputs": [
    {
     "data": {
      "text/plain": [
       "'01101000011111101000100111001101101001010111111001110111010101101010111010010100011100010111000001111110011001010111000110000111010011100001101111011000101111110001100100111101110101100111101011011001100001010110000110001010101001000101010000010011110101101100110111010110000111111010001111100101'"
      ]
     },
     "execution_count": 3,
     "metadata": {},
     "output_type": "execute_result"
    }
   ],
   "source": [
    "compressed_data = ''.join(encode_table[c] for c in s)\n",
    "compressed_data"
   ]
  },
  {
   "cell_type": "markdown",
   "id": "d959d7de",
   "metadata": {},
   "source": [
    "# Decoding"
   ]
  },
  {
   "cell_type": "code",
   "execution_count": 4,
   "id": "5ce39481",
   "metadata": {},
   "outputs": [
    {
     "data": {
      "text/plain": [
       "'Lorem Ipsum is simply dummy text of the printing and typesetting industry'"
      ]
     },
     "execution_count": 4,
     "metadata": {},
     "output_type": "execute_result"
    }
   ],
   "source": [
    "data = str(compressed_data)\n",
    "decompressed_data = ''\n",
    "\n",
    "while data:\n",
    "    found_items = ((char, code) for char, code in encode_table.items() if data.startswith(code))\n",
    "    decoded_char, binary_code = max(found_items, key=lambda x: len(x[1]))\n",
    "    \n",
    "    decompressed_data += decoded_char\n",
    "    data = data[len(binary_code):]\n",
    "    \n",
    "decompressed_data"
   ]
  },
  {
   "cell_type": "code",
   "execution_count": null,
   "id": "c0a4ad3f",
   "metadata": {},
   "outputs": [],
   "source": []
  },
  {
   "cell_type": "code",
   "execution_count": null,
   "id": "68ce3b42",
   "metadata": {},
   "outputs": [],
   "source": []
  },
  {
   "cell_type": "code",
   "execution_count": null,
   "id": "1eeea96f",
   "metadata": {},
   "outputs": [],
   "source": []
  },
  {
   "cell_type": "code",
   "execution_count": null,
   "id": "a2cbc23d",
   "metadata": {},
   "outputs": [],
   "source": []
  }
 ],
 "metadata": {
  "kernelspec": {
   "display_name": "Python 3",
   "language": "python",
   "name": "python3"
  },
  "language_info": {
   "codemirror_mode": {
    "name": "ipython",
    "version": 3
   },
   "file_extension": ".py",
   "mimetype": "text/x-python",
   "name": "python",
   "nbconvert_exporter": "python",
   "pygments_lexer": "ipython3",
   "version": "3.8.8"
  }
 },
 "nbformat": 4,
 "nbformat_minor": 5
}
